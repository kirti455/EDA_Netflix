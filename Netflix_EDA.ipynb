{
 "cells": [
  {
   "cell_type": "code",
   "execution_count": 1,
   "id": "0a5b3841",
   "metadata": {},
   "outputs": [],
   "source": [
    "#Importing necessary libraries-->\n",
    "\n",
    "import numpy as np\n",
    "import pandas as pd\n",
    "import matplotlib.pyplot as plt\n",
    "import seaborn as sns \n",
    "import warnings\n",
    "warnings.filterwarnings('ignore')\n",
    "%matplotlib inline"
   ]
  },
  {
   "cell_type": "code",
   "execution_count": 2,
   "id": "e1608fdc",
   "metadata": {},
   "outputs": [
    {
     "data": {
      "text/html": [
       "<div>\n",
       "<style scoped>\n",
       "    .dataframe tbody tr th:only-of-type {\n",
       "        vertical-align: middle;\n",
       "    }\n",
       "\n",
       "    .dataframe tbody tr th {\n",
       "        vertical-align: top;\n",
       "    }\n",
       "\n",
       "    .dataframe thead th {\n",
       "        text-align: right;\n",
       "    }\n",
       "</style>\n",
       "<table border=\"1\" class=\"dataframe\">\n",
       "  <thead>\n",
       "    <tr style=\"text-align: right;\">\n",
       "      <th></th>\n",
       "      <th>show_id</th>\n",
       "      <th>type</th>\n",
       "      <th>title</th>\n",
       "      <th>director</th>\n",
       "      <th>cast</th>\n",
       "      <th>country</th>\n",
       "      <th>date_added</th>\n",
       "      <th>release_year</th>\n",
       "      <th>rating</th>\n",
       "      <th>duration</th>\n",
       "      <th>listed_in</th>\n",
       "      <th>description</th>\n",
       "    </tr>\n",
       "  </thead>\n",
       "  <tbody>\n",
       "    <tr>\n",
       "      <th>0</th>\n",
       "      <td>s1</td>\n",
       "      <td>Movie</td>\n",
       "      <td>Dick Johnson Is Dead</td>\n",
       "      <td>Kirsten Johnson</td>\n",
       "      <td>NaN</td>\n",
       "      <td>United States</td>\n",
       "      <td>September 25, 2021</td>\n",
       "      <td>2020</td>\n",
       "      <td>PG-13</td>\n",
       "      <td>90 min</td>\n",
       "      <td>Documentaries</td>\n",
       "      <td>As her father nears the end of his life, filmm...</td>\n",
       "    </tr>\n",
       "    <tr>\n",
       "      <th>1</th>\n",
       "      <td>s2</td>\n",
       "      <td>TV Show</td>\n",
       "      <td>Blood &amp; Water</td>\n",
       "      <td>NaN</td>\n",
       "      <td>Ama Qamata, Khosi Ngema, Gail Mabalane, Thaban...</td>\n",
       "      <td>South Africa</td>\n",
       "      <td>September 24, 2021</td>\n",
       "      <td>2021</td>\n",
       "      <td>TV-MA</td>\n",
       "      <td>2 Seasons</td>\n",
       "      <td>International TV Shows, TV Dramas, TV Mysteries</td>\n",
       "      <td>After crossing paths at a party, a Cape Town t...</td>\n",
       "    </tr>\n",
       "    <tr>\n",
       "      <th>2</th>\n",
       "      <td>s3</td>\n",
       "      <td>TV Show</td>\n",
       "      <td>Ganglands</td>\n",
       "      <td>Julien Leclercq</td>\n",
       "      <td>Sami Bouajila, Tracy Gotoas, Samuel Jouy, Nabi...</td>\n",
       "      <td>NaN</td>\n",
       "      <td>September 24, 2021</td>\n",
       "      <td>2021</td>\n",
       "      <td>TV-MA</td>\n",
       "      <td>1 Season</td>\n",
       "      <td>Crime TV Shows, International TV Shows, TV Act...</td>\n",
       "      <td>To protect his family from a powerful drug lor...</td>\n",
       "    </tr>\n",
       "    <tr>\n",
       "      <th>3</th>\n",
       "      <td>s4</td>\n",
       "      <td>TV Show</td>\n",
       "      <td>Jailbirds New Orleans</td>\n",
       "      <td>NaN</td>\n",
       "      <td>NaN</td>\n",
       "      <td>NaN</td>\n",
       "      <td>September 24, 2021</td>\n",
       "      <td>2021</td>\n",
       "      <td>TV-MA</td>\n",
       "      <td>1 Season</td>\n",
       "      <td>Docuseries, Reality TV</td>\n",
       "      <td>Feuds, flirtations and toilet talk go down amo...</td>\n",
       "    </tr>\n",
       "    <tr>\n",
       "      <th>4</th>\n",
       "      <td>s5</td>\n",
       "      <td>TV Show</td>\n",
       "      <td>Kota Factory</td>\n",
       "      <td>NaN</td>\n",
       "      <td>Mayur More, Jitendra Kumar, Ranjan Raj, Alam K...</td>\n",
       "      <td>India</td>\n",
       "      <td>September 24, 2021</td>\n",
       "      <td>2021</td>\n",
       "      <td>TV-MA</td>\n",
       "      <td>2 Seasons</td>\n",
       "      <td>International TV Shows, Romantic TV Shows, TV ...</td>\n",
       "      <td>In a city of coaching centers known to train I...</td>\n",
       "    </tr>\n",
       "  </tbody>\n",
       "</table>\n",
       "</div>"
      ],
      "text/plain": [
       "  show_id     type                  title         director  \\\n",
       "0      s1    Movie   Dick Johnson Is Dead  Kirsten Johnson   \n",
       "1      s2  TV Show          Blood & Water              NaN   \n",
       "2      s3  TV Show              Ganglands  Julien Leclercq   \n",
       "3      s4  TV Show  Jailbirds New Orleans              NaN   \n",
       "4      s5  TV Show           Kota Factory              NaN   \n",
       "\n",
       "                                                cast        country  \\\n",
       "0                                                NaN  United States   \n",
       "1  Ama Qamata, Khosi Ngema, Gail Mabalane, Thaban...   South Africa   \n",
       "2  Sami Bouajila, Tracy Gotoas, Samuel Jouy, Nabi...            NaN   \n",
       "3                                                NaN            NaN   \n",
       "4  Mayur More, Jitendra Kumar, Ranjan Raj, Alam K...          India   \n",
       "\n",
       "           date_added  release_year rating   duration  \\\n",
       "0  September 25, 2021          2020  PG-13     90 min   \n",
       "1  September 24, 2021          2021  TV-MA  2 Seasons   \n",
       "2  September 24, 2021          2021  TV-MA   1 Season   \n",
       "3  September 24, 2021          2021  TV-MA   1 Season   \n",
       "4  September 24, 2021          2021  TV-MA  2 Seasons   \n",
       "\n",
       "                                           listed_in  \\\n",
       "0                                      Documentaries   \n",
       "1    International TV Shows, TV Dramas, TV Mysteries   \n",
       "2  Crime TV Shows, International TV Shows, TV Act...   \n",
       "3                             Docuseries, Reality TV   \n",
       "4  International TV Shows, Romantic TV Shows, TV ...   \n",
       "\n",
       "                                         description  \n",
       "0  As her father nears the end of his life, filmm...  \n",
       "1  After crossing paths at a party, a Cape Town t...  \n",
       "2  To protect his family from a powerful drug lor...  \n",
       "3  Feuds, flirtations and toilet talk go down amo...  \n",
       "4  In a city of coaching centers known to train I...  "
      ]
     },
     "execution_count": 2,
     "metadata": {},
     "output_type": "execute_result"
    }
   ],
   "source": [
    "#Importing our dataset and checking first five rows-->\n",
    "\n",
    "df=pd.read_csv('netflix_titles.csv')\n",
    "df.head()"
   ]
  },
  {
   "cell_type": "code",
   "execution_count": 3,
   "id": "95848ea3",
   "metadata": {},
   "outputs": [
    {
     "data": {
      "text/html": [
       "<div>\n",
       "<style scoped>\n",
       "    .dataframe tbody tr th:only-of-type {\n",
       "        vertical-align: middle;\n",
       "    }\n",
       "\n",
       "    .dataframe tbody tr th {\n",
       "        vertical-align: top;\n",
       "    }\n",
       "\n",
       "    .dataframe thead th {\n",
       "        text-align: right;\n",
       "    }\n",
       "</style>\n",
       "<table border=\"1\" class=\"dataframe\">\n",
       "  <thead>\n",
       "    <tr style=\"text-align: right;\">\n",
       "      <th></th>\n",
       "      <th>show_id</th>\n",
       "      <th>type</th>\n",
       "      <th>title</th>\n",
       "      <th>director</th>\n",
       "      <th>cast</th>\n",
       "      <th>country</th>\n",
       "      <th>date_added</th>\n",
       "      <th>release_year</th>\n",
       "      <th>rating</th>\n",
       "      <th>duration</th>\n",
       "      <th>listed_in</th>\n",
       "      <th>description</th>\n",
       "    </tr>\n",
       "  </thead>\n",
       "  <tbody>\n",
       "    <tr>\n",
       "      <th>8805</th>\n",
       "      <td>s8806</td>\n",
       "      <td>Movie</td>\n",
       "      <td>Zoom</td>\n",
       "      <td>Peter Hewitt</td>\n",
       "      <td>Tim Allen, Courteney Cox, Chevy Chase, Kate Ma...</td>\n",
       "      <td>United States</td>\n",
       "      <td>January 11, 2020</td>\n",
       "      <td>2006</td>\n",
       "      <td>PG</td>\n",
       "      <td>88 min</td>\n",
       "      <td>Children &amp; Family Movies, Comedies</td>\n",
       "      <td>Dragged from civilian life, a former superhero...</td>\n",
       "    </tr>\n",
       "    <tr>\n",
       "      <th>8806</th>\n",
       "      <td>s8807</td>\n",
       "      <td>Movie</td>\n",
       "      <td>Zubaan</td>\n",
       "      <td>Mozez Singh</td>\n",
       "      <td>Vicky Kaushal, Sarah-Jane Dias, Raaghav Chanan...</td>\n",
       "      <td>India</td>\n",
       "      <td>March 2, 2019</td>\n",
       "      <td>2015</td>\n",
       "      <td>TV-14</td>\n",
       "      <td>111 min</td>\n",
       "      <td>Dramas, International Movies, Music &amp; Musicals</td>\n",
       "      <td>A scrappy but poor boy worms his way into a ty...</td>\n",
       "    </tr>\n",
       "  </tbody>\n",
       "</table>\n",
       "</div>"
      ],
      "text/plain": [
       "     show_id   type   title      director  \\\n",
       "8805   s8806  Movie    Zoom  Peter Hewitt   \n",
       "8806   s8807  Movie  Zubaan   Mozez Singh   \n",
       "\n",
       "                                                   cast        country  \\\n",
       "8805  Tim Allen, Courteney Cox, Chevy Chase, Kate Ma...  United States   \n",
       "8806  Vicky Kaushal, Sarah-Jane Dias, Raaghav Chanan...          India   \n",
       "\n",
       "            date_added  release_year rating duration  \\\n",
       "8805  January 11, 2020          2006     PG   88 min   \n",
       "8806     March 2, 2019          2015  TV-14  111 min   \n",
       "\n",
       "                                           listed_in  \\\n",
       "8805              Children & Family Movies, Comedies   \n",
       "8806  Dramas, International Movies, Music & Musicals   \n",
       "\n",
       "                                            description  \n",
       "8805  Dragged from civilian life, a former superhero...  \n",
       "8806  A scrappy but poor boy worms his way into a ty...  "
      ]
     },
     "execution_count": 3,
     "metadata": {},
     "output_type": "execute_result"
    }
   ],
   "source": [
    "#Checking the last two rows-->\n",
    "\n",
    "df.tail(2)"
   ]
  },
  {
   "cell_type": "code",
   "execution_count": 4,
   "id": "91c3285b",
   "metadata": {},
   "outputs": [
    {
     "name": "stdout",
     "output_type": "stream",
     "text": [
      "<class 'pandas.core.frame.DataFrame'>\n",
      "RangeIndex: 8807 entries, 0 to 8806\n",
      "Data columns (total 12 columns):\n",
      " #   Column        Non-Null Count  Dtype \n",
      "---  ------        --------------  ----- \n",
      " 0   show_id       8807 non-null   object\n",
      " 1   type          8807 non-null   object\n",
      " 2   title         8807 non-null   object\n",
      " 3   director      6173 non-null   object\n",
      " 4   cast          7982 non-null   object\n",
      " 5   country       7976 non-null   object\n",
      " 6   date_added    8797 non-null   object\n",
      " 7   release_year  8807 non-null   int64 \n",
      " 8   rating        8803 non-null   object\n",
      " 9   duration      8804 non-null   object\n",
      " 10  listed_in     8807 non-null   object\n",
      " 11  description   8807 non-null   object\n",
      "dtypes: int64(1), object(11)\n",
      "memory usage: 825.8+ KB\n"
     ]
    }
   ],
   "source": [
    "#Checking the general information of our dataset-->\n",
    "\n",
    "df.info()"
   ]
  },
  {
   "cell_type": "code",
   "execution_count": 5,
   "id": "35458883",
   "metadata": {},
   "outputs": [
    {
     "name": "stdout",
     "output_type": "stream",
     "text": [
      "<class 'pandas.core.frame.DataFrame'>\n",
      "RangeIndex: 8807 entries, 0 to 8806\n",
      "Data columns (total 12 columns):\n",
      " #   Column        Non-Null Count  Dtype \n",
      "---  ------        --------------  ----- \n",
      " 0   show_id       8807 non-null   object\n",
      " 1   type          8807 non-null   object\n",
      " 2   title         8807 non-null   object\n",
      " 3   director      6173 non-null   object\n",
      " 4   cast          7982 non-null   object\n",
      " 5   country       7976 non-null   object\n",
      " 6   date_added    8797 non-null   object\n",
      " 7   release_year  8807 non-null   int64 \n",
      " 8   rating        8803 non-null   object\n",
      " 9   duration      8807 non-null   object\n",
      " 10  listed_in     8807 non-null   object\n",
      " 11  description   8807 non-null   object\n",
      "dtypes: int64(1), object(11)\n",
      "memory usage: 825.8+ KB\n"
     ]
    }
   ],
   "source": [
    "#Cleaning the duration column to convert it into int dtype-->\n",
    "\n",
    "df['duration']=df['duration'].apply(lambda x:str(x).split(' ')[0])\n",
    "df.info()"
   ]
  },
  {
   "cell_type": "code",
   "execution_count": 6,
   "id": "bc332e9d",
   "metadata": {},
   "outputs": [
    {
     "name": "stdout",
     "output_type": "stream",
     "text": [
      "<class 'pandas.core.frame.DataFrame'>\n",
      "RangeIndex: 8807 entries, 0 to 8806\n",
      "Data columns (total 12 columns):\n",
      " #   Column        Non-Null Count  Dtype  \n",
      "---  ------        --------------  -----  \n",
      " 0   show_id       8807 non-null   object \n",
      " 1   type          8807 non-null   object \n",
      " 2   title         8807 non-null   object \n",
      " 3   director      6173 non-null   object \n",
      " 4   cast          7982 non-null   object \n",
      " 5   country       7976 non-null   object \n",
      " 6   date_added    8797 non-null   object \n",
      " 7   release_year  8807 non-null   int64  \n",
      " 8   rating        8803 non-null   object \n",
      " 9   duration      8804 non-null   float64\n",
      " 10  listed_in     8807 non-null   object \n",
      " 11  description   8807 non-null   object \n",
      "dtypes: float64(1), int64(1), object(10)\n",
      "memory usage: 825.8+ KB\n"
     ]
    }
   ],
   "source": [
    "#Duration column still hasn't converted into a numeric column, so converting the argument into numeric type-->\n",
    "\n",
    "df['duration']=pd.to_numeric(df['duration'], errors='coerce')\n",
    "df.info()"
   ]
  },
  {
   "cell_type": "markdown",
   "id": "ce1facf0",
   "metadata": {},
   "source": [
    "# Using Datetime-->"
   ]
  },
  {
   "cell_type": "code",
   "execution_count": 7,
   "id": "8119580f",
   "metadata": {},
   "outputs": [],
   "source": [
    "#Converting the date column into Datetime-->\n",
    "\n",
    "df['date']=pd.to_datetime(df['date_added'])"
   ]
  },
  {
   "cell_type": "code",
   "execution_count": 8,
   "id": "825359ce",
   "metadata": {},
   "outputs": [],
   "source": [
    "#Creating subsets of date column-->\n",
    "\n",
    "df['year']=df['date'].dt.year\n",
    "df['month']=df['date'].dt.month\n",
    "df['day']=df['date'].dt.day"
   ]
  },
  {
   "cell_type": "code",
   "execution_count": 9,
   "id": "a242c6e4",
   "metadata": {},
   "outputs": [],
   "source": [
    "#Dropping the previous date columns-->\n",
    "\n",
    "df.drop(columns=['date_added','date'], inplace=True)"
   ]
  },
  {
   "cell_type": "code",
   "execution_count": 10,
   "id": "414a6d89",
   "metadata": {},
   "outputs": [
    {
     "data": {
      "text/plain": [
       "show_id            0\n",
       "type               0\n",
       "title              0\n",
       "director        2634\n",
       "cast             825\n",
       "country          831\n",
       "release_year       0\n",
       "rating             4\n",
       "duration           3\n",
       "listed_in          0\n",
       "description        0\n",
       "year              10\n",
       "month             10\n",
       "day               10\n",
       "dtype: int64"
      ]
     },
     "execution_count": 10,
     "metadata": {},
     "output_type": "execute_result"
    }
   ],
   "source": [
    "#Checking for the missing values-->\n",
    "\n",
    "df.isnull().sum()"
   ]
  },
  {
   "cell_type": "markdown",
   "id": "3fad1f72",
   "metadata": {},
   "source": [
    "# Missing Value Treatment-->"
   ]
  },
  {
   "cell_type": "code",
   "execution_count": 11,
   "id": "90dece53",
   "metadata": {},
   "outputs": [],
   "source": [
    "#Imputing the missing values in these columns by using their respective modes-->\n",
    "\n",
    "df['country'].fillna(df['country'].mode()[0], inplace=True)\n",
    "df['year'].fillna(df['year'].mode()[0], inplace=True)\n",
    "df['month'].fillna(df['month'].mode()[0], inplace=True)\n",
    "df['day'].fillna(df['day'].mode()[0], inplace=True)"
   ]
  },
  {
   "cell_type": "code",
   "execution_count": 12,
   "id": "7343140b",
   "metadata": {},
   "outputs": [],
   "source": [
    "#Imputing the missing values in these columns by simply mentioning 'Unknown'-->\n",
    "\n",
    "df['cast'].fillna('unknown', inplace=True)\n",
    "df['rating'].fillna('unknown', inplace=True)\n",
    "df['director'].fillna('unknown', inplace=True)"
   ]
  },
  {
   "cell_type": "code",
   "execution_count": 13,
   "id": "1557f807",
   "metadata": {},
   "outputs": [],
   "source": [
    "#Imputing the missing values in duration column by it's median value-->\n",
    "\n",
    "df['duration'].fillna(df['duration'].median(), inplace=True)"
   ]
  },
  {
   "cell_type": "code",
   "execution_count": 14,
   "id": "be75b84f",
   "metadata": {},
   "outputs": [
    {
     "data": {
      "text/plain": [
       "show_id         0\n",
       "type            0\n",
       "title           0\n",
       "director        0\n",
       "cast            0\n",
       "country         0\n",
       "release_year    0\n",
       "rating          0\n",
       "duration        0\n",
       "listed_in       0\n",
       "description     0\n",
       "year            0\n",
       "month           0\n",
       "day             0\n",
       "dtype: int64"
      ]
     },
     "execution_count": 14,
     "metadata": {},
     "output_type": "execute_result"
    }
   ],
   "source": [
    "df.isnull().sum()"
   ]
  },
  {
   "cell_type": "raw",
   "id": "ff108f76",
   "metadata": {},
   "source": [
    "So, we've successfully imputed all the missing values"
   ]
  },
  {
   "cell_type": "markdown",
   "id": "56b8a9c6",
   "metadata": {},
   "source": [
    "# EDA-->"
   ]
  },
  {
   "cell_type": "markdown",
   "id": "42c644ac",
   "metadata": {},
   "source": [
    "## Q1) Find out the show id & director for the title 'House of Cards'?"
   ]
  },
  {
   "cell_type": "code",
   "execution_count": 15,
   "id": "b0572742",
   "metadata": {},
   "outputs": [
    {
     "data": {
      "text/html": [
       "<div>\n",
       "<style scoped>\n",
       "    .dataframe tbody tr th:only-of-type {\n",
       "        vertical-align: middle;\n",
       "    }\n",
       "\n",
       "    .dataframe tbody tr th {\n",
       "        vertical-align: top;\n",
       "    }\n",
       "\n",
       "    .dataframe thead th {\n",
       "        text-align: right;\n",
       "    }\n",
       "</style>\n",
       "<table border=\"1\" class=\"dataframe\">\n",
       "  <thead>\n",
       "    <tr style=\"text-align: right;\">\n",
       "      <th></th>\n",
       "      <th>show_id</th>\n",
       "      <th>type</th>\n",
       "      <th>title</th>\n",
       "      <th>director</th>\n",
       "      <th>cast</th>\n",
       "      <th>country</th>\n",
       "      <th>release_year</th>\n",
       "      <th>rating</th>\n",
       "      <th>duration</th>\n",
       "      <th>listed_in</th>\n",
       "      <th>description</th>\n",
       "      <th>year</th>\n",
       "      <th>month</th>\n",
       "      <th>day</th>\n",
       "    </tr>\n",
       "  </thead>\n",
       "  <tbody>\n",
       "    <tr>\n",
       "      <th>1059</th>\n",
       "      <td>s1060</td>\n",
       "      <td>TV Show</td>\n",
       "      <td>House of Cards</td>\n",
       "      <td>unknown</td>\n",
       "      <td>Kevin Spacey, Robin Wright, Kate Mara, Corey S...</td>\n",
       "      <td>United States</td>\n",
       "      <td>2018</td>\n",
       "      <td>TV-MA</td>\n",
       "      <td>6.0</td>\n",
       "      <td>TV Dramas, TV Thrillers</td>\n",
       "      <td>A ruthless politician will stop at nothing to ...</td>\n",
       "      <td>2021.0</td>\n",
       "      <td>4.0</td>\n",
       "      <td>14.0</td>\n",
       "    </tr>\n",
       "  </tbody>\n",
       "</table>\n",
       "</div>"
      ],
      "text/plain": [
       "     show_id     type           title director  \\\n",
       "1059   s1060  TV Show  House of Cards  unknown   \n",
       "\n",
       "                                                   cast        country  \\\n",
       "1059  Kevin Spacey, Robin Wright, Kate Mara, Corey S...  United States   \n",
       "\n",
       "      release_year rating  duration                listed_in  \\\n",
       "1059          2018  TV-MA       6.0  TV Dramas, TV Thrillers   \n",
       "\n",
       "                                            description    year  month   day  \n",
       "1059  A ruthless politician will stop at nothing to ...  2021.0    4.0  14.0  "
      ]
     },
     "execution_count": 15,
     "metadata": {},
     "output_type": "execute_result"
    }
   ],
   "source": [
    "df[df['title']=='House of Cards']"
   ]
  },
  {
   "cell_type": "raw",
   "id": "fb0dd3ff",
   "metadata": {},
   "source": [
    "Hence, show_id= s1060 & director - unknown "
   ]
  },
  {
   "cell_type": "markdown",
   "id": "402d934d",
   "metadata": {},
   "source": [
    "## Q2) In which year highest num of TV shows & Movies were released?"
   ]
  },
  {
   "cell_type": "code",
   "execution_count": 16,
   "id": "a0ce320f",
   "metadata": {},
   "outputs": [
    {
     "data": {
      "text/plain": [
       "2019.0    2026\n",
       "2020.0    1879\n",
       "2018.0    1649\n",
       "2021.0    1498\n",
       "2017.0    1188\n",
       "2016.0     429\n",
       "2015.0      82\n",
       "2014.0      24\n",
       "2011.0      13\n",
       "2013.0      11\n",
       "2012.0       3\n",
       "2009.0       2\n",
       "2008.0       2\n",
       "2010.0       1\n",
       "Name: year, dtype: int64"
      ]
     },
     "execution_count": 16,
     "metadata": {},
     "output_type": "execute_result"
    }
   ],
   "source": [
    "df['year'].value_counts()"
   ]
  },
  {
   "cell_type": "raw",
   "id": "16fb1d50",
   "metadata": {},
   "source": [
    "#Hence, 2019 is the year in which highest num of TV shows & Movies were released & the count is 2026"
   ]
  },
  {
   "cell_type": "code",
   "execution_count": 17,
   "id": "61279be9",
   "metadata": {},
   "outputs": [
    {
     "data": {
      "image/png": "[encoded data removed]",
      "text/plain": [
       "<Figure size 640x480 with 1 Axes>"
      ]
     },
     "metadata": {},
     "output_type": "display_data"
    }
   ],
   "source": [
    "#Creating a Barplot for the same-->\n",
    "\n",
    "sns.barplot(x=df['year'].value_counts().keys()[:5], y=df['year'].value_counts().values[:5], data=df)\n",
    "plt.xlabel('Year')\n",
    "plt.ylabel('No of TV shows & Movies')\n",
    "plt.title('Highest no of TV shows & Movies')\n",
    "plt.show()"
   ]
  },
  {
   "cell_type": "markdown",
   "id": "691aba4e",
   "metadata": {},
   "source": [
    "## Q3) How many Movies & TV shows are in the df, show with the graph?"
   ]
  },
  {
   "cell_type": "code",
   "execution_count": 18,
   "id": "1431d143",
   "metadata": {},
   "outputs": [
    {
     "data": {
      "text/plain": [
       "Movie      6131\n",
       "TV Show    2676\n",
       "Name: type, dtype: int64"
      ]
     },
     "execution_count": 18,
     "metadata": {},
     "output_type": "execute_result"
    }
   ],
   "source": [
    "df['type'].value_counts()"
   ]
  },
  {
   "cell_type": "raw",
   "id": "a8be9d86",
   "metadata": {},
   "source": [
    "#Here, Movies are 6131 in numbers, while TV shows are comparatively low i.e., 2676"
   ]
  },
  {
   "cell_type": "code",
   "execution_count": 19,
   "id": "0c5f9c81",
   "metadata": {},
   "outputs": [
    {
     "data": {
      "image/png": "[encoded data removed]",
      "text/plain": [
       "<Figure size 640x480 with 1 Axes>"
      ]
     },
     "metadata": {},
     "output_type": "display_data"
    }
   ],
   "source": [
    "#Creating a Countplot to visualize these numbers-->\n",
    "\n",
    "sns.countplot(x='type', data=df)\n",
    "#plt.grid(True)\n",
    "plt.title('TV shows & Movies comparison')\n",
    "plt.show()"
   ]
  },
  {
   "cell_type": "markdown",
   "id": "b159269a",
   "metadata": {},
   "source": [
    "## Q4) Show the movies which were released in 2020"
   ]
  },
  {
   "cell_type": "code",
   "execution_count": 20,
   "id": "c7381e63",
   "metadata": {},
   "outputs": [
    {
     "data": {
      "text/html": [
       "<div>\n",
       "<style scoped>\n",
       "    .dataframe tbody tr th:only-of-type {\n",
       "        vertical-align: middle;\n",
       "    }\n",
       "\n",
       "    .dataframe tbody tr th {\n",
       "        vertical-align: top;\n",
       "    }\n",
       "\n",
       "    .dataframe thead th {\n",
       "        text-align: right;\n",
       "    }\n",
       "</style>\n",
       "<table border=\"1\" class=\"dataframe\">\n",
       "  <thead>\n",
       "    <tr style=\"text-align: right;\">\n",
       "      <th></th>\n",
       "      <th>show_id</th>\n",
       "      <th>type</th>\n",
       "      <th>title</th>\n",
       "      <th>director</th>\n",
       "      <th>cast</th>\n",
       "      <th>country</th>\n",
       "      <th>release_year</th>\n",
       "      <th>rating</th>\n",
       "      <th>duration</th>\n",
       "      <th>listed_in</th>\n",
       "      <th>description</th>\n",
       "      <th>year</th>\n",
       "      <th>month</th>\n",
       "      <th>day</th>\n",
       "    </tr>\n",
       "  </thead>\n",
       "  <tbody>\n",
       "    <tr>\n",
       "      <th>1470</th>\n",
       "      <td>s1471</td>\n",
       "      <td>Movie</td>\n",
       "      <td>Alaska Is a Drag</td>\n",
       "      <td>Shaz Bennett</td>\n",
       "      <td>Martin L. Washington Jr., Maya Washington, Mat...</td>\n",
       "      <td>United States</td>\n",
       "      <td>2017</td>\n",
       "      <td>TV-MA</td>\n",
       "      <td>83.0</td>\n",
       "      <td>Dramas, LGBTQ Movies</td>\n",
       "      <td>Tormented by bullies, an aspiring drag star wo...</td>\n",
       "      <td>2020.0</td>\n",
       "      <td>12.0</td>\n",
       "      <td>31.0</td>\n",
       "    </tr>\n",
       "    <tr>\n",
       "      <th>1471</th>\n",
       "      <td>s1472</td>\n",
       "      <td>Movie</td>\n",
       "      <td>Best of Stand-Up 2020</td>\n",
       "      <td>unknown</td>\n",
       "      <td>Jerry Seinfeld, Leslie Jones, Taylor Tomlinson...</td>\n",
       "      <td>United States</td>\n",
       "      <td>2020</td>\n",
       "      <td>TV-MA</td>\n",
       "      <td>77.0</td>\n",
       "      <td>Stand-Up Comedy</td>\n",
       "      <td>From Jerry Seinfeld to Leslie Jones, Kevin Har...</td>\n",
       "      <td>2020.0</td>\n",
       "      <td>12.0</td>\n",
       "      <td>31.0</td>\n",
       "    </tr>\n",
       "    <tr>\n",
       "      <th>1472</th>\n",
       "      <td>s1473</td>\n",
       "      <td>Movie</td>\n",
       "      <td>Bobby Jasoos</td>\n",
       "      <td>Samar Shaikh</td>\n",
       "      <td>Vidya Balan, Ali Fazal, Supriya Pathak, Tanvi ...</td>\n",
       "      <td>India</td>\n",
       "      <td>2014</td>\n",
       "      <td>TV-14</td>\n",
       "      <td>116.0</td>\n",
       "      <td>Comedies, Dramas, International Movies</td>\n",
       "      <td>With unlimited determination and zero field ex...</td>\n",
       "      <td>2020.0</td>\n",
       "      <td>12.0</td>\n",
       "      <td>31.0</td>\n",
       "    </tr>\n",
       "    <tr>\n",
       "      <th>1474</th>\n",
       "      <td>s1475</td>\n",
       "      <td>Movie</td>\n",
       "      <td>Tarung Sarung</td>\n",
       "      <td>Archie Hekagery</td>\n",
       "      <td>Panji Zoni, Yayan Ruhian, Maizura, Cemal Faruk...</td>\n",
       "      <td>Indonesia</td>\n",
       "      <td>2020</td>\n",
       "      <td>TV-PG</td>\n",
       "      <td>116.0</td>\n",
       "      <td>Action &amp; Adventure, Dramas, Faith &amp; Spirituality</td>\n",
       "      <td>Wealthy and spoiled, a young man finds somethi...</td>\n",
       "      <td>2020.0</td>\n",
       "      <td>12.0</td>\n",
       "      <td>31.0</td>\n",
       "    </tr>\n",
       "    <tr>\n",
       "      <th>1475</th>\n",
       "      <td>s1476</td>\n",
       "      <td>Movie</td>\n",
       "      <td>Too Handsome to Handle</td>\n",
       "      <td>Sabrina Rochelle Kalangie</td>\n",
       "      <td>Ari Irham, Nikita Willy, Calvin Jeremy, Rachel...</td>\n",
       "      <td>Indonesia</td>\n",
       "      <td>2019</td>\n",
       "      <td>TV-14</td>\n",
       "      <td>106.0</td>\n",
       "      <td>Comedies, Dramas, International Movies</td>\n",
       "      <td>Wary of the effects of his good looks on other...</td>\n",
       "      <td>2020.0</td>\n",
       "      <td>12.0</td>\n",
       "      <td>31.0</td>\n",
       "    </tr>\n",
       "  </tbody>\n",
       "</table>\n",
       "</div>"
      ],
      "text/plain": [
       "     show_id   type                   title                   director  \\\n",
       "1470   s1471  Movie        Alaska Is a Drag               Shaz Bennett   \n",
       "1471   s1472  Movie   Best of Stand-Up 2020                    unknown   \n",
       "1472   s1473  Movie            Bobby Jasoos               Samar Shaikh   \n",
       "1474   s1475  Movie           Tarung Sarung            Archie Hekagery   \n",
       "1475   s1476  Movie  Too Handsome to Handle  Sabrina Rochelle Kalangie   \n",
       "\n",
       "                                                   cast        country  \\\n",
       "1470  Martin L. Washington Jr., Maya Washington, Mat...  United States   \n",
       "1471  Jerry Seinfeld, Leslie Jones, Taylor Tomlinson...  United States   \n",
       "1472  Vidya Balan, Ali Fazal, Supriya Pathak, Tanvi ...          India   \n",
       "1474  Panji Zoni, Yayan Ruhian, Maizura, Cemal Faruk...      Indonesia   \n",
       "1475  Ari Irham, Nikita Willy, Calvin Jeremy, Rachel...      Indonesia   \n",
       "\n",
       "      release_year rating  duration  \\\n",
       "1470          2017  TV-MA      83.0   \n",
       "1471          2020  TV-MA      77.0   \n",
       "1472          2014  TV-14     116.0   \n",
       "1474          2020  TV-PG     116.0   \n",
       "1475          2019  TV-14     106.0   \n",
       "\n",
       "                                             listed_in  \\\n",
       "1470                              Dramas, LGBTQ Movies   \n",
       "1471                                   Stand-Up Comedy   \n",
       "1472            Comedies, Dramas, International Movies   \n",
       "1474  Action & Adventure, Dramas, Faith & Spirituality   \n",
       "1475            Comedies, Dramas, International Movies   \n",
       "\n",
       "                                            description    year  month   day  \n",
       "1470  Tormented by bullies, an aspiring drag star wo...  2020.0   12.0  31.0  \n",
       "1471  From Jerry Seinfeld to Leslie Jones, Kevin Har...  2020.0   12.0  31.0  \n",
       "1472  With unlimited determination and zero field ex...  2020.0   12.0  31.0  \n",
       "1474  Wealthy and spoiled, a young man finds somethi...  2020.0   12.0  31.0  \n",
       "1475  Wary of the effects of his good looks on other...  2020.0   12.0  31.0  "
      ]
     },
     "execution_count": 20,
     "metadata": {},
     "output_type": "execute_result"
    }
   ],
   "source": [
    "movies_2020=df[(df['year']==2020) & (df['type']=='Movie')]\n",
    "movies_2020.head()"
   ]
  },
  {
   "cell_type": "code",
   "execution_count": 21,
   "id": "8335b79a",
   "metadata": {},
   "outputs": [
    {
     "data": {
      "text/plain": [
       "(1284, 14)"
      ]
     },
     "execution_count": 21,
     "metadata": {},
     "output_type": "execute_result"
    }
   ],
   "source": [
    "movies_2020.shape"
   ]
  },
  {
   "cell_type": "raw",
   "id": "da53f25e",
   "metadata": {},
   "source": [
    "#Hence 1284 movies were released in the year 2020"
   ]
  },
  {
   "cell_type": "markdown",
   "id": "940d127a",
   "metadata": {},
   "source": [
    "## Q5) Show only the 'titles' of TV shows that were released in India only"
   ]
  },
  {
   "cell_type": "code",
   "execution_count": 22,
   "id": "1783b295",
   "metadata": {},
   "outputs": [
    {
     "data": {
      "text/plain": [
       "array(['Kota Factory', 'Chhota Bheem', 'Dharmakshetra',\n",
       "       'Raja Rasoi Aur Anya Kahaniyan', 'Stories by Rabindranath Tagore',\n",
       "       'The Creative Indians', 'Navarasa', 'Alma Matters',\n",
       "       'Sab Jholmaal Hai', 'Lava Ka Dhaava', 'The Big Day',\n",
       "       'Bombay Begums', 'Zindagi in Short', 'Pitta Kathalu',\n",
       "       'Mighty Little Bheem: Kite Festival', 'Regiment Diaries',\n",
       "       'Paava Kadhaigal', 'Bhaag Beanie Bhaag',\n",
       "       'Fabulous Lives of Bollywood Wives', 'Mismatched',\n",
       "       'Bad Boy Billionaires: India', 'Masaba Masaba', 'Little Singham',\n",
       "       'Betaal', 'ChuChu TV Nursery Rhymes & Kids Songs (Hindi)',\n",
       "       'Hasmukh', 'Akbar\\xa0Birbal', 'Ladies Up', 'She',\n",
       "       'Mighty Little Bheem: Festival of Colors', 'Taj Mahal 1989',\n",
       "       'Jamtara - Sabka Number Ayega', 'Little Things',\n",
       "       'Mighty Little Bheem: Diwali', 'College Romance',\n",
       "       'Engineering Girls', 'Girls Hostel', 'Inmates', 'Bard of Blood',\n",
       "       'Typewriter', 'Leila', 'Delhi Crime',\n",
       "       'Cricket Fever: Mumbai Indians', 'Selection Day', 'GHOUL',\n",
       "       '21 Sarfarosh: Saragarhi 1897', '7 (Seven)', 'Agent Raghav',\n",
       "       'Anjaan: Rural Myths', 'Anjaan: Special Crimes Unit',\n",
       "       'Badalte Rishton Ki Dastaan', 'Bh Se Bhade', 'Bhaage Re Mann',\n",
       "       'Classic Legends', 'Darr Sabko Lagta Hai',\n",
       "       'Devlok with Devdutt Pattanaik', 'Fear Files... Har Mod Pe Darr',\n",
       "       'Gabru: Hip Hop Revolution', 'Gangs of Hassepur', 'Jhansi Ki Rani',\n",
       "       'Khan: No. 1 Crime Hunter', 'Khelti Hai Zindagi Aankh Micholi',\n",
       "       'Khotey Sikkey', 'Maharakshak Devi', 'Maharakshak: Aryan',\n",
       "       'Mahi Way', 'Midnight Misadventures With Mallika Dua', 'Powder',\n",
       "       'Pyaar Tune Kya Kiya', 'Ramayan', 'Razia Sultan', 'Rishta.com',\n",
       "       'Super Bheem', 'Th Eena Meena Deeka Chase Comedy Show',\n",
       "       'Thackeray', 'The Calling', 'The Golden Years with Javed Akhtar',\n",
       "       'The House That Made Me', 'Yeh Meri Family'], dtype=object)"
      ]
     },
     "execution_count": 22,
     "metadata": {},
     "output_type": "execute_result"
    }
   ],
   "source": [
    "indian_tvshows=df['title'][(df['country']=='India') & (df['type']=='TV Show')]\n",
    "indian_tvshows.values"
   ]
  },
  {
   "cell_type": "code",
   "execution_count": 23,
   "id": "1ed289f6",
   "metadata": {},
   "outputs": [
    {
     "data": {
      "text/plain": [
       "(79,)"
      ]
     },
     "execution_count": 23,
     "metadata": {},
     "output_type": "execute_result"
    }
   ],
   "source": [
    "indian_tvshows.shape"
   ]
  },
  {
   "cell_type": "raw",
   "id": "7e2691dc",
   "metadata": {},
   "source": [
    "#Hence, there are '79' 'TV Shows' that were released in India & there 'titles' are mentioned above."
   ]
  },
  {
   "cell_type": "markdown",
   "id": "ec4aad2a",
   "metadata": {},
   "source": [
    "## Q6) Show top 10 directors who gave highest num of TV shows and movies to Netflix"
   ]
  },
  {
   "cell_type": "code",
   "execution_count": 24,
   "id": "224d442a",
   "metadata": {},
   "outputs": [
    {
     "data": {
      "text/plain": [
       "unknown                   2634\n",
       "Rajiv Chilaka               19\n",
       "Raúl Campos, Jan Suter      18\n",
       "Suhas Kadav                 16\n",
       "Marcus Raboy                16\n",
       "Jay Karas                   14\n",
       "Cathy Garcia-Molina         13\n",
       "Jay Chapman                 12\n",
       "Youssef Chahine             12\n",
       "Martin Scorsese             12\n",
       "Steven Spielberg            11\n",
       "Name: director, dtype: int64"
      ]
     },
     "execution_count": 24,
     "metadata": {},
     "output_type": "execute_result"
    }
   ],
   "source": [
    "top10_directors=df['director'].value_counts().head(11)\n",
    "top10_directors"
   ]
  },
  {
   "cell_type": "code",
   "execution_count": 25,
   "id": "66ab54c6",
   "metadata": {},
   "outputs": [
    {
     "data": {
      "text/plain": [
       "Rajiv Chilaka             19\n",
       "Raúl Campos, Jan Suter    18\n",
       "Suhas Kadav               16\n",
       "Marcus Raboy              16\n",
       "Jay Karas                 14\n",
       "Cathy Garcia-Molina       13\n",
       "Jay Chapman               12\n",
       "Youssef Chahine           12\n",
       "Martin Scorsese           12\n",
       "Steven Spielberg          11\n",
       "Name: director, dtype: int64"
      ]
     },
     "execution_count": 25,
     "metadata": {},
     "output_type": "execute_result"
    }
   ],
   "source": [
    "#Filtering out the 'unknown' record-->\n",
    "\n",
    "top_10=top10_directors[top10_directors.index !='unknown']\n",
    "top_10"
   ]
  },
  {
   "cell_type": "raw",
   "id": "11fd7b2c",
   "metadata": {},
   "source": [
    "#Hence these are the top 10 directors with highest num of Movies and TV shows on Netflix"
   ]
  },
  {
   "cell_type": "code",
   "execution_count": 26,
   "id": "72fd9811",
   "metadata": {},
   "outputs": [
    {
     "data": {
      "image/png": "[encoded data removed]",
      "text/plain": [
       "<Figure size 640x480 with 1 Axes>"
      ]
     },
     "metadata": {},
     "output_type": "display_data"
    }
   ],
   "source": [
    "#Creating a Piechart to demonstrate this record-->\n",
    "\n",
    "plt.pie(top_10.values, labels=top_10.keys(), autopct='%.1f%%', explode=(.1,0.05,0.05,0,0,0,0,0,0,0), shadow=True)\n",
    "plt.show()"
   ]
  },
  {
   "cell_type": "markdown",
   "id": "14e52ab6",
   "metadata": {},
   "source": [
    "## Q7) Show all the movies where type is 'Movie' & listed in 'Comedy' or the Country is 'UK'"
   ]
  },
  {
   "cell_type": "code",
   "execution_count": 27,
   "id": "42439a83",
   "metadata": {},
   "outputs": [
    {
     "data": {
      "text/html": [
       "<div>\n",
       "<style scoped>\n",
       "    .dataframe tbody tr th:only-of-type {\n",
       "        vertical-align: middle;\n",
       "    }\n",
       "\n",
       "    .dataframe tbody tr th {\n",
       "        vertical-align: top;\n",
       "    }\n",
       "\n",
       "    .dataframe thead th {\n",
       "        text-align: right;\n",
       "    }\n",
       "</style>\n",
       "<table border=\"1\" class=\"dataframe\">\n",
       "  <thead>\n",
       "    <tr style=\"text-align: right;\">\n",
       "      <th></th>\n",
       "      <th>show_id</th>\n",
       "      <th>type</th>\n",
       "      <th>title</th>\n",
       "      <th>director</th>\n",
       "      <th>cast</th>\n",
       "      <th>country</th>\n",
       "      <th>release_year</th>\n",
       "      <th>rating</th>\n",
       "      <th>duration</th>\n",
       "      <th>listed_in</th>\n",
       "      <th>description</th>\n",
       "      <th>year</th>\n",
       "      <th>month</th>\n",
       "      <th>day</th>\n",
       "    </tr>\n",
       "  </thead>\n",
       "  <tbody>\n",
       "    <tr>\n",
       "      <th>8</th>\n",
       "      <td>s9</td>\n",
       "      <td>TV Show</td>\n",
       "      <td>The Great British Baking Show</td>\n",
       "      <td>Andy Devonshire</td>\n",
       "      <td>Mel Giedroyc, Sue Perkins, Mary Berry, Paul Ho...</td>\n",
       "      <td>United Kingdom</td>\n",
       "      <td>2021</td>\n",
       "      <td>TV-14</td>\n",
       "      <td>9.0</td>\n",
       "      <td>British TV Shows, Reality TV</td>\n",
       "      <td>A talented batch of amateur bakers face off in...</td>\n",
       "      <td>2021.0</td>\n",
       "      <td>9.0</td>\n",
       "      <td>24.0</td>\n",
       "    </tr>\n",
       "    <tr>\n",
       "      <th>9</th>\n",
       "      <td>s10</td>\n",
       "      <td>Movie</td>\n",
       "      <td>The Starling</td>\n",
       "      <td>Theodore Melfi</td>\n",
       "      <td>Melissa McCarthy, Chris O'Dowd, Kevin Kline, T...</td>\n",
       "      <td>United States</td>\n",
       "      <td>2021</td>\n",
       "      <td>PG-13</td>\n",
       "      <td>104.0</td>\n",
       "      <td>Comedies, Dramas</td>\n",
       "      <td>A woman adjusting to life after a loss contend...</td>\n",
       "      <td>2021.0</td>\n",
       "      <td>9.0</td>\n",
       "      <td>24.0</td>\n",
       "    </tr>\n",
       "    <tr>\n",
       "      <th>13</th>\n",
       "      <td>s14</td>\n",
       "      <td>Movie</td>\n",
       "      <td>Confessions of an Invisible Girl</td>\n",
       "      <td>Bruno Garotti</td>\n",
       "      <td>Klara Castanho, Lucca Picon, Júlia Gomes, Marc...</td>\n",
       "      <td>United States</td>\n",
       "      <td>2021</td>\n",
       "      <td>TV-PG</td>\n",
       "      <td>91.0</td>\n",
       "      <td>Children &amp; Family Movies, Comedies</td>\n",
       "      <td>When the clever but socially-awkward Tetê join...</td>\n",
       "      <td>2021.0</td>\n",
       "      <td>9.0</td>\n",
       "      <td>22.0</td>\n",
       "    </tr>\n",
       "    <tr>\n",
       "      <th>22</th>\n",
       "      <td>s23</td>\n",
       "      <td>Movie</td>\n",
       "      <td>Avvai Shanmughi</td>\n",
       "      <td>K.S. Ravikumar</td>\n",
       "      <td>Kamal Hassan, Meena, Gemini Ganesan, Heera Raj...</td>\n",
       "      <td>United States</td>\n",
       "      <td>1996</td>\n",
       "      <td>TV-PG</td>\n",
       "      <td>161.0</td>\n",
       "      <td>Comedies, International Movies</td>\n",
       "      <td>Newly divorced and denied visitation rights wi...</td>\n",
       "      <td>2021.0</td>\n",
       "      <td>9.0</td>\n",
       "      <td>21.0</td>\n",
       "    </tr>\n",
       "    <tr>\n",
       "      <th>24</th>\n",
       "      <td>s25</td>\n",
       "      <td>Movie</td>\n",
       "      <td>Jeans</td>\n",
       "      <td>S. Shankar</td>\n",
       "      <td>Prashanth, Aishwarya Rai Bachchan, Sri Lakshmi...</td>\n",
       "      <td>India</td>\n",
       "      <td>1998</td>\n",
       "      <td>TV-14</td>\n",
       "      <td>166.0</td>\n",
       "      <td>Comedies, International Movies, Romantic Movies</td>\n",
       "      <td>When the father of the man she loves insists t...</td>\n",
       "      <td>2021.0</td>\n",
       "      <td>9.0</td>\n",
       "      <td>21.0</td>\n",
       "    </tr>\n",
       "    <tr>\n",
       "      <th>...</th>\n",
       "      <td>...</td>\n",
       "      <td>...</td>\n",
       "      <td>...</td>\n",
       "      <td>...</td>\n",
       "      <td>...</td>\n",
       "      <td>...</td>\n",
       "      <td>...</td>\n",
       "      <td>...</td>\n",
       "      <td>...</td>\n",
       "      <td>...</td>\n",
       "      <td>...</td>\n",
       "      <td>...</td>\n",
       "      <td>...</td>\n",
       "      <td>...</td>\n",
       "    </tr>\n",
       "    <tr>\n",
       "      <th>8791</th>\n",
       "      <td>s8792</td>\n",
       "      <td>Movie</td>\n",
       "      <td>Young Adult</td>\n",
       "      <td>Jason Reitman</td>\n",
       "      <td>Charlize Theron, Patton Oswalt, Patrick Wilson...</td>\n",
       "      <td>United States</td>\n",
       "      <td>2011</td>\n",
       "      <td>R</td>\n",
       "      <td>94.0</td>\n",
       "      <td>Comedies, Dramas, Independent Movies</td>\n",
       "      <td>When a divorced writer gets a letter from an o...</td>\n",
       "      <td>2019.0</td>\n",
       "      <td>11.0</td>\n",
       "      <td>20.0</td>\n",
       "    </tr>\n",
       "    <tr>\n",
       "      <th>8793</th>\n",
       "      <td>s8794</td>\n",
       "      <td>Movie</td>\n",
       "      <td>Yours, Mine and Ours</td>\n",
       "      <td>Raja Gosnell</td>\n",
       "      <td>Dennis Quaid, Rene Russo, Sean Faris, Katija P...</td>\n",
       "      <td>United States</td>\n",
       "      <td>2005</td>\n",
       "      <td>PG</td>\n",
       "      <td>88.0</td>\n",
       "      <td>Children &amp; Family Movies, Comedies</td>\n",
       "      <td>When a father of eight and a mother of 10 prep...</td>\n",
       "      <td>2019.0</td>\n",
       "      <td>11.0</td>\n",
       "      <td>20.0</td>\n",
       "    </tr>\n",
       "    <tr>\n",
       "      <th>8798</th>\n",
       "      <td>s8799</td>\n",
       "      <td>Movie</td>\n",
       "      <td>Zed Plus</td>\n",
       "      <td>Chandra Prakash Dwivedi</td>\n",
       "      <td>Adil Hussain, Mona Singh, K.K. Raina, Sanjay M...</td>\n",
       "      <td>India</td>\n",
       "      <td>2014</td>\n",
       "      <td>TV-MA</td>\n",
       "      <td>131.0</td>\n",
       "      <td>Comedies, Dramas, International Movies</td>\n",
       "      <td>A philandering small-town mechanic's political...</td>\n",
       "      <td>2019.0</td>\n",
       "      <td>12.0</td>\n",
       "      <td>31.0</td>\n",
       "    </tr>\n",
       "    <tr>\n",
       "      <th>8804</th>\n",
       "      <td>s8805</td>\n",
       "      <td>Movie</td>\n",
       "      <td>Zombieland</td>\n",
       "      <td>Ruben Fleischer</td>\n",
       "      <td>Jesse Eisenberg, Woody Harrelson, Emma Stone, ...</td>\n",
       "      <td>United States</td>\n",
       "      <td>2009</td>\n",
       "      <td>R</td>\n",
       "      <td>88.0</td>\n",
       "      <td>Comedies, Horror Movies</td>\n",
       "      <td>Looking to survive in a world taken over by zo...</td>\n",
       "      <td>2019.0</td>\n",
       "      <td>11.0</td>\n",
       "      <td>1.0</td>\n",
       "    </tr>\n",
       "    <tr>\n",
       "      <th>8805</th>\n",
       "      <td>s8806</td>\n",
       "      <td>Movie</td>\n",
       "      <td>Zoom</td>\n",
       "      <td>Peter Hewitt</td>\n",
       "      <td>Tim Allen, Courteney Cox, Chevy Chase, Kate Ma...</td>\n",
       "      <td>United States</td>\n",
       "      <td>2006</td>\n",
       "      <td>PG</td>\n",
       "      <td>88.0</td>\n",
       "      <td>Children &amp; Family Movies, Comedies</td>\n",
       "      <td>Dragged from civilian life, a former superhero...</td>\n",
       "      <td>2020.0</td>\n",
       "      <td>1.0</td>\n",
       "      <td>11.0</td>\n",
       "    </tr>\n",
       "  </tbody>\n",
       "</table>\n",
       "<p>2061 rows × 14 columns</p>\n",
       "</div>"
      ],
      "text/plain": [
       "     show_id     type                             title  \\\n",
       "8         s9  TV Show     The Great British Baking Show   \n",
       "9        s10    Movie                      The Starling   \n",
       "13       s14    Movie  Confessions of an Invisible Girl   \n",
       "22       s23    Movie                   Avvai Shanmughi   \n",
       "24       s25    Movie                             Jeans   \n",
       "...      ...      ...                               ...   \n",
       "8791   s8792    Movie                       Young Adult   \n",
       "8793   s8794    Movie              Yours, Mine and Ours   \n",
       "8798   s8799    Movie                          Zed Plus   \n",
       "8804   s8805    Movie                        Zombieland   \n",
       "8805   s8806    Movie                              Zoom   \n",
       "\n",
       "                     director  \\\n",
       "8             Andy Devonshire   \n",
       "9              Theodore Melfi   \n",
       "13              Bruno Garotti   \n",
       "22             K.S. Ravikumar   \n",
       "24                 S. Shankar   \n",
       "...                       ...   \n",
       "8791            Jason Reitman   \n",
       "8793             Raja Gosnell   \n",
       "8798  Chandra Prakash Dwivedi   \n",
       "8804          Ruben Fleischer   \n",
       "8805             Peter Hewitt   \n",
       "\n",
       "                                                   cast         country  \\\n",
       "8     Mel Giedroyc, Sue Perkins, Mary Berry, Paul Ho...  United Kingdom   \n",
       "9     Melissa McCarthy, Chris O'Dowd, Kevin Kline, T...   United States   \n",
       "13    Klara Castanho, Lucca Picon, Júlia Gomes, Marc...   United States   \n",
       "22    Kamal Hassan, Meena, Gemini Ganesan, Heera Raj...   United States   \n",
       "24    Prashanth, Aishwarya Rai Bachchan, Sri Lakshmi...           India   \n",
       "...                                                 ...             ...   \n",
       "8791  Charlize Theron, Patton Oswalt, Patrick Wilson...   United States   \n",
       "8793  Dennis Quaid, Rene Russo, Sean Faris, Katija P...   United States   \n",
       "8798  Adil Hussain, Mona Singh, K.K. Raina, Sanjay M...           India   \n",
       "8804  Jesse Eisenberg, Woody Harrelson, Emma Stone, ...   United States   \n",
       "8805  Tim Allen, Courteney Cox, Chevy Chase, Kate Ma...   United States   \n",
       "\n",
       "      release_year rating  duration  \\\n",
       "8             2021  TV-14       9.0   \n",
       "9             2021  PG-13     104.0   \n",
       "13            2021  TV-PG      91.0   \n",
       "22            1996  TV-PG     161.0   \n",
       "24            1998  TV-14     166.0   \n",
       "...            ...    ...       ...   \n",
       "8791          2011      R      94.0   \n",
       "8793          2005     PG      88.0   \n",
       "8798          2014  TV-MA     131.0   \n",
       "8804          2009      R      88.0   \n",
       "8805          2006     PG      88.0   \n",
       "\n",
       "                                            listed_in  \\\n",
       "8                        British TV Shows, Reality TV   \n",
       "9                                    Comedies, Dramas   \n",
       "13                 Children & Family Movies, Comedies   \n",
       "22                     Comedies, International Movies   \n",
       "24    Comedies, International Movies, Romantic Movies   \n",
       "...                                               ...   \n",
       "8791             Comedies, Dramas, Independent Movies   \n",
       "8793               Children & Family Movies, Comedies   \n",
       "8798           Comedies, Dramas, International Movies   \n",
       "8804                          Comedies, Horror Movies   \n",
       "8805               Children & Family Movies, Comedies   \n",
       "\n",
       "                                            description    year  month   day  \n",
       "8     A talented batch of amateur bakers face off in...  2021.0    9.0  24.0  \n",
       "9     A woman adjusting to life after a loss contend...  2021.0    9.0  24.0  \n",
       "13    When the clever but socially-awkward Tetê join...  2021.0    9.0  22.0  \n",
       "22    Newly divorced and denied visitation rights wi...  2021.0    9.0  21.0  \n",
       "24    When the father of the man she loves insists t...  2021.0    9.0  21.0  \n",
       "...                                                 ...     ...    ...   ...  \n",
       "8791  When a divorced writer gets a letter from an o...  2019.0   11.0  20.0  \n",
       "8793  When a father of eight and a mother of 10 prep...  2019.0   11.0  20.0  \n",
       "8798  A philandering small-town mechanic's political...  2019.0   12.0  31.0  \n",
       "8804  Looking to survive in a world taken over by zo...  2019.0   11.0   1.0  \n",
       "8805  Dragged from civilian life, a former superhero...  2020.0    1.0  11.0  \n",
       "\n",
       "[2061 rows x 14 columns]"
      ]
     },
     "execution_count": 27,
     "metadata": {},
     "output_type": "execute_result"
    }
   ],
   "source": [
    "df[((df['type']=='Movie') & (df['listed_in'].str.contains('Comedies'))) | (df['country']=='United Kingdom')]"
   ]
  },
  {
   "cell_type": "code",
   "execution_count": 28,
   "id": "5cbff920",
   "metadata": {},
   "outputs": [
    {
     "data": {
      "text/html": [
       "<div>\n",
       "<style scoped>\n",
       "    .dataframe tbody tr th:only-of-type {\n",
       "        vertical-align: middle;\n",
       "    }\n",
       "\n",
       "    .dataframe tbody tr th {\n",
       "        vertical-align: top;\n",
       "    }\n",
       "\n",
       "    .dataframe thead th {\n",
       "        text-align: right;\n",
       "    }\n",
       "</style>\n",
       "<table border=\"1\" class=\"dataframe\">\n",
       "  <thead>\n",
       "    <tr style=\"text-align: right;\">\n",
       "      <th></th>\n",
       "      <th>show_id</th>\n",
       "      <th>type</th>\n",
       "      <th>title</th>\n",
       "      <th>director</th>\n",
       "      <th>cast</th>\n",
       "      <th>country</th>\n",
       "      <th>release_year</th>\n",
       "      <th>rating</th>\n",
       "      <th>duration</th>\n",
       "      <th>listed_in</th>\n",
       "      <th>description</th>\n",
       "      <th>year</th>\n",
       "      <th>month</th>\n",
       "      <th>day</th>\n",
       "    </tr>\n",
       "  </thead>\n",
       "  <tbody>\n",
       "    <tr>\n",
       "      <th>8</th>\n",
       "      <td>s9</td>\n",
       "      <td>TV Show</td>\n",
       "      <td>The Great British Baking Show</td>\n",
       "      <td>Andy Devonshire</td>\n",
       "      <td>Mel Giedroyc, Sue Perkins, Mary Berry, Paul Ho...</td>\n",
       "      <td>United Kingdom</td>\n",
       "      <td>2021</td>\n",
       "      <td>TV-14</td>\n",
       "      <td>9.0</td>\n",
       "      <td>British TV Shows, Reality TV</td>\n",
       "      <td>A talented batch of amateur bakers face off in...</td>\n",
       "      <td>2021.0</td>\n",
       "      <td>9.0</td>\n",
       "      <td>24.0</td>\n",
       "    </tr>\n",
       "    <tr>\n",
       "      <th>27</th>\n",
       "      <td>s28</td>\n",
       "      <td>Movie</td>\n",
       "      <td>Grown Ups</td>\n",
       "      <td>Dennis Dugan</td>\n",
       "      <td>Adam Sandler, Kevin James, Chris Rock, David S...</td>\n",
       "      <td>United States</td>\n",
       "      <td>2010</td>\n",
       "      <td>PG-13</td>\n",
       "      <td>103.0</td>\n",
       "      <td>Comedies</td>\n",
       "      <td>Mourning the loss of their beloved junior high...</td>\n",
       "      <td>2021.0</td>\n",
       "      <td>9.0</td>\n",
       "      <td>20.0</td>\n",
       "    </tr>\n",
       "    <tr>\n",
       "      <th>32</th>\n",
       "      <td>s33</td>\n",
       "      <td>TV Show</td>\n",
       "      <td>Sex Education</td>\n",
       "      <td>unknown</td>\n",
       "      <td>Asa Butterfield, Gillian Anderson, Ncuti Gatwa...</td>\n",
       "      <td>United Kingdom</td>\n",
       "      <td>2020</td>\n",
       "      <td>TV-MA</td>\n",
       "      <td>3.0</td>\n",
       "      <td>British TV Shows, International TV Shows, TV C...</td>\n",
       "      <td>Insecure Otis has all the answers when it come...</td>\n",
       "      <td>2021.0</td>\n",
       "      <td>9.0</td>\n",
       "      <td>17.0</td>\n",
       "    </tr>\n",
       "    <tr>\n",
       "      <th>65</th>\n",
       "      <td>s66</td>\n",
       "      <td>TV Show</td>\n",
       "      <td>Numberblocks</td>\n",
       "      <td>unknown</td>\n",
       "      <td>Beth Chalmers, David Holt, Marcel McCalla, Ter...</td>\n",
       "      <td>United Kingdom</td>\n",
       "      <td>2021</td>\n",
       "      <td>TV-Y</td>\n",
       "      <td>6.0</td>\n",
       "      <td>Kids' TV</td>\n",
       "      <td>In a place called Numberland, math adds up to ...</td>\n",
       "      <td>2021.0</td>\n",
       "      <td>9.0</td>\n",
       "      <td>15.0</td>\n",
       "    </tr>\n",
       "    <tr>\n",
       "      <th>72</th>\n",
       "      <td>s73</td>\n",
       "      <td>TV Show</td>\n",
       "      <td>Jack Whitehall: Travels with My Father</td>\n",
       "      <td>unknown</td>\n",
       "      <td>Jack Whitehall, Michael Whitehall</td>\n",
       "      <td>United Kingdom</td>\n",
       "      <td>2021</td>\n",
       "      <td>TV-MA</td>\n",
       "      <td>5.0</td>\n",
       "      <td>British TV Shows, Docuseries, International TV...</td>\n",
       "      <td>Jovial comic Jack Whitehall invites his stuffy...</td>\n",
       "      <td>2021.0</td>\n",
       "      <td>9.0</td>\n",
       "      <td>14.0</td>\n",
       "    </tr>\n",
       "    <tr>\n",
       "      <th>...</th>\n",
       "      <td>...</td>\n",
       "      <td>...</td>\n",
       "      <td>...</td>\n",
       "      <td>...</td>\n",
       "      <td>...</td>\n",
       "      <td>...</td>\n",
       "      <td>...</td>\n",
       "      <td>...</td>\n",
       "      <td>...</td>\n",
       "      <td>...</td>\n",
       "      <td>...</td>\n",
       "      <td>...</td>\n",
       "      <td>...</td>\n",
       "      <td>...</td>\n",
       "    </tr>\n",
       "    <tr>\n",
       "      <th>8740</th>\n",
       "      <td>s8741</td>\n",
       "      <td>TV Show</td>\n",
       "      <td>Wild Alaska</td>\n",
       "      <td>unknown</td>\n",
       "      <td>Dougray Scott</td>\n",
       "      <td>United Kingdom</td>\n",
       "      <td>2015</td>\n",
       "      <td>TV-PG</td>\n",
       "      <td>1.0</td>\n",
       "      <td>British TV Shows, Docuseries, Science &amp; Nature TV</td>\n",
       "      <td>The natural bounty of Alaska sustains its dive...</td>\n",
       "      <td>2017.0</td>\n",
       "      <td>3.0</td>\n",
       "      <td>31.0</td>\n",
       "    </tr>\n",
       "    <tr>\n",
       "      <th>8741</th>\n",
       "      <td>s8742</td>\n",
       "      <td>TV Show</td>\n",
       "      <td>Wild Arabia</td>\n",
       "      <td>unknown</td>\n",
       "      <td>Alexander Siddig</td>\n",
       "      <td>United Kingdom</td>\n",
       "      <td>2013</td>\n",
       "      <td>TV-PG</td>\n",
       "      <td>1.0</td>\n",
       "      <td>British TV Shows, Docuseries, Science &amp; Nature TV</td>\n",
       "      <td>The widely varied geology and dramatic landsca...</td>\n",
       "      <td>2017.0</td>\n",
       "      <td>3.0</td>\n",
       "      <td>31.0</td>\n",
       "    </tr>\n",
       "    <tr>\n",
       "      <th>8744</th>\n",
       "      <td>s8745</td>\n",
       "      <td>Movie</td>\n",
       "      <td>Williams</td>\n",
       "      <td>Morgan Matthews</td>\n",
       "      <td>unknown</td>\n",
       "      <td>United Kingdom</td>\n",
       "      <td>2017</td>\n",
       "      <td>TV-MA</td>\n",
       "      <td>105.0</td>\n",
       "      <td>Documentaries, International Movies, Sports Mo...</td>\n",
       "      <td>This inspiring documentary charts the birth of...</td>\n",
       "      <td>2017.0</td>\n",
       "      <td>11.0</td>\n",
       "      <td>4.0</td>\n",
       "    </tr>\n",
       "    <tr>\n",
       "      <th>8758</th>\n",
       "      <td>s8759</td>\n",
       "      <td>TV Show</td>\n",
       "      <td>World's Busiest Cities</td>\n",
       "      <td>unknown</td>\n",
       "      <td>Anita Rani, Ade Adepitan, Dan Snow</td>\n",
       "      <td>United Kingdom</td>\n",
       "      <td>2017</td>\n",
       "      <td>TV-PG</td>\n",
       "      <td>1.0</td>\n",
       "      <td>British TV Shows, Docuseries</td>\n",
       "      <td>From Moscow to Mexico City, three BBC journali...</td>\n",
       "      <td>2019.0</td>\n",
       "      <td>2.0</td>\n",
       "      <td>1.0</td>\n",
       "    </tr>\n",
       "    <tr>\n",
       "      <th>8786</th>\n",
       "      <td>s8787</td>\n",
       "      <td>Movie</td>\n",
       "      <td>You Can Tutu</td>\n",
       "      <td>James Brown</td>\n",
       "      <td>Lily O'Regan, Jeannettsy Enriquez Borges, Joel...</td>\n",
       "      <td>United Kingdom</td>\n",
       "      <td>2017</td>\n",
       "      <td>TV-G</td>\n",
       "      <td>87.0</td>\n",
       "      <td>Children &amp; Family Movies</td>\n",
       "      <td>A gifted young ballet dancer struggles to find...</td>\n",
       "      <td>2017.0</td>\n",
       "      <td>12.0</td>\n",
       "      <td>31.0</td>\n",
       "    </tr>\n",
       "  </tbody>\n",
       "</table>\n",
       "<p>521 rows × 14 columns</p>\n",
       "</div>"
      ],
      "text/plain": [
       "     show_id     type                                   title  \\\n",
       "8         s9  TV Show           The Great British Baking Show   \n",
       "27       s28    Movie                               Grown Ups   \n",
       "32       s33  TV Show                           Sex Education   \n",
       "65       s66  TV Show                            Numberblocks   \n",
       "72       s73  TV Show  Jack Whitehall: Travels with My Father   \n",
       "...      ...      ...                                     ...   \n",
       "8740   s8741  TV Show                             Wild Alaska   \n",
       "8741   s8742  TV Show                             Wild Arabia   \n",
       "8744   s8745    Movie                                Williams   \n",
       "8758   s8759  TV Show                  World's Busiest Cities   \n",
       "8786   s8787    Movie                            You Can Tutu   \n",
       "\n",
       "             director                                               cast  \\\n",
       "8     Andy Devonshire  Mel Giedroyc, Sue Perkins, Mary Berry, Paul Ho...   \n",
       "27       Dennis Dugan  Adam Sandler, Kevin James, Chris Rock, David S...   \n",
       "32            unknown  Asa Butterfield, Gillian Anderson, Ncuti Gatwa...   \n",
       "65            unknown  Beth Chalmers, David Holt, Marcel McCalla, Ter...   \n",
       "72            unknown                  Jack Whitehall, Michael Whitehall   \n",
       "...               ...                                                ...   \n",
       "8740          unknown                                      Dougray Scott   \n",
       "8741          unknown                                   Alexander Siddig   \n",
       "8744  Morgan Matthews                                            unknown   \n",
       "8758          unknown                 Anita Rani, Ade Adepitan, Dan Snow   \n",
       "8786      James Brown  Lily O'Regan, Jeannettsy Enriquez Borges, Joel...   \n",
       "\n",
       "             country  release_year rating  duration  \\\n",
       "8     United Kingdom          2021  TV-14       9.0   \n",
       "27     United States          2010  PG-13     103.0   \n",
       "32    United Kingdom          2020  TV-MA       3.0   \n",
       "65    United Kingdom          2021   TV-Y       6.0   \n",
       "72    United Kingdom          2021  TV-MA       5.0   \n",
       "...              ...           ...    ...       ...   \n",
       "8740  United Kingdom          2015  TV-PG       1.0   \n",
       "8741  United Kingdom          2013  TV-PG       1.0   \n",
       "8744  United Kingdom          2017  TV-MA     105.0   \n",
       "8758  United Kingdom          2017  TV-PG       1.0   \n",
       "8786  United Kingdom          2017   TV-G      87.0   \n",
       "\n",
       "                                              listed_in  \\\n",
       "8                          British TV Shows, Reality TV   \n",
       "27                                             Comedies   \n",
       "32    British TV Shows, International TV Shows, TV C...   \n",
       "65                                             Kids' TV   \n",
       "72    British TV Shows, Docuseries, International TV...   \n",
       "...                                                 ...   \n",
       "8740  British TV Shows, Docuseries, Science & Nature TV   \n",
       "8741  British TV Shows, Docuseries, Science & Nature TV   \n",
       "8744  Documentaries, International Movies, Sports Mo...   \n",
       "8758                       British TV Shows, Docuseries   \n",
       "8786                           Children & Family Movies   \n",
       "\n",
       "                                            description    year  month   day  \n",
       "8     A talented batch of amateur bakers face off in...  2021.0    9.0  24.0  \n",
       "27    Mourning the loss of their beloved junior high...  2021.0    9.0  20.0  \n",
       "32    Insecure Otis has all the answers when it come...  2021.0    9.0  17.0  \n",
       "65    In a place called Numberland, math adds up to ...  2021.0    9.0  15.0  \n",
       "72    Jovial comic Jack Whitehall invites his stuffy...  2021.0    9.0  14.0  \n",
       "...                                                 ...     ...    ...   ...  \n",
       "8740  The natural bounty of Alaska sustains its dive...  2017.0    3.0  31.0  \n",
       "8741  The widely varied geology and dramatic landsca...  2017.0    3.0  31.0  \n",
       "8744  This inspiring documentary charts the birth of...  2017.0   11.0   4.0  \n",
       "8758  From Moscow to Mexico City, three BBC journali...  2019.0    2.0   1.0  \n",
       "8786  A gifted young ballet dancer struggles to find...  2017.0   12.0  31.0  \n",
       "\n",
       "[521 rows x 14 columns]"
      ]
     },
     "execution_count": 28,
     "metadata": {},
     "output_type": "execute_result"
    }
   ],
   "source": [
    "df[(((df['type']=='Movie') & (df['listed_in']=='Comedies')) | (df['country']=='United Kingdom'))]"
   ]
  },
  {
   "cell_type": "raw",
   "id": "2dd9153e",
   "metadata": {},
   "source": [
    "#Hence, we can conclude there are '2061' movies where comedy is just one of the genre and '521' movies where the genre is only comedy"
   ]
  },
  {
   "cell_type": "markdown",
   "id": "e829ad90",
   "metadata": {},
   "source": [
    "## Q8) Find out the num of movies & TV shows in which 'Tom Cruise' was cast"
   ]
  },
  {
   "cell_type": "code",
   "execution_count": 29,
   "id": "71715288",
   "metadata": {},
   "outputs": [
    {
     "data": {
      "text/html": [
       "<div>\n",
       "<style scoped>\n",
       "    .dataframe tbody tr th:only-of-type {\n",
       "        vertical-align: middle;\n",
       "    }\n",
       "\n",
       "    .dataframe tbody tr th {\n",
       "        vertical-align: top;\n",
       "    }\n",
       "\n",
       "    .dataframe thead th {\n",
       "        text-align: right;\n",
       "    }\n",
       "</style>\n",
       "<table border=\"1\" class=\"dataframe\">\n",
       "  <thead>\n",
       "    <tr style=\"text-align: right;\">\n",
       "      <th></th>\n",
       "      <th>show_id</th>\n",
       "      <th>type</th>\n",
       "      <th>title</th>\n",
       "      <th>director</th>\n",
       "      <th>cast</th>\n",
       "      <th>country</th>\n",
       "      <th>release_year</th>\n",
       "      <th>rating</th>\n",
       "      <th>duration</th>\n",
       "      <th>listed_in</th>\n",
       "      <th>description</th>\n",
       "      <th>year</th>\n",
       "      <th>month</th>\n",
       "      <th>day</th>\n",
       "    </tr>\n",
       "  </thead>\n",
       "  <tbody>\n",
       "    <tr>\n",
       "      <th>341</th>\n",
       "      <td>s342</td>\n",
       "      <td>Movie</td>\n",
       "      <td>Magnolia</td>\n",
       "      <td>Paul Thomas Anderson</td>\n",
       "      <td>John C. Reilly, Philip Baker Hall, Tom Cruise,...</td>\n",
       "      <td>United States</td>\n",
       "      <td>1999</td>\n",
       "      <td>R</td>\n",
       "      <td>189.0</td>\n",
       "      <td>Dramas, Independent Movies</td>\n",
       "      <td>Through chance, history and divine interventio...</td>\n",
       "      <td>2021.0</td>\n",
       "      <td>8.0</td>\n",
       "      <td>1.0</td>\n",
       "    </tr>\n",
       "    <tr>\n",
       "      <th>1254</th>\n",
       "      <td>s1255</td>\n",
       "      <td>Movie</td>\n",
       "      <td>Rain Man</td>\n",
       "      <td>Barry Levinson</td>\n",
       "      <td>Dustin Hoffman, Tom Cruise, Valeria Golino, Ge...</td>\n",
       "      <td>United States</td>\n",
       "      <td>1988</td>\n",
       "      <td>R</td>\n",
       "      <td>134.0</td>\n",
       "      <td>Classic Movies, Dramas</td>\n",
       "      <td>Motivated by money, a selfish workaholic seeki...</td>\n",
       "      <td>2021.0</td>\n",
       "      <td>3.0</td>\n",
       "      <td>1.0</td>\n",
       "    </tr>\n",
       "  </tbody>\n",
       "</table>\n",
       "</div>"
      ],
      "text/plain": [
       "     show_id   type     title              director  \\\n",
       "341     s342  Movie  Magnolia  Paul Thomas Anderson   \n",
       "1254   s1255  Movie  Rain Man        Barry Levinson   \n",
       "\n",
       "                                                   cast        country  \\\n",
       "341   John C. Reilly, Philip Baker Hall, Tom Cruise,...  United States   \n",
       "1254  Dustin Hoffman, Tom Cruise, Valeria Golino, Ge...  United States   \n",
       "\n",
       "      release_year rating  duration                   listed_in  \\\n",
       "341           1999      R     189.0  Dramas, Independent Movies   \n",
       "1254          1988      R     134.0      Classic Movies, Dramas   \n",
       "\n",
       "                                            description    year  month  day  \n",
       "341   Through chance, history and divine interventio...  2021.0    8.0  1.0  \n",
       "1254  Motivated by money, a selfish workaholic seeki...  2021.0    3.0  1.0  "
      ]
     },
     "execution_count": 29,
     "metadata": {},
     "output_type": "execute_result"
    }
   ],
   "source": [
    "df[df['cast'].str.contains('Tom Cruise')]"
   ]
  },
  {
   "cell_type": "raw",
   "id": "2420c9bb",
   "metadata": {},
   "source": [
    "#Therefore, 'Magnolia' & 'Rain Man' are the only two movies in which Tom Cruise was cast."
   ]
  },
  {
   "cell_type": "markdown",
   "id": "ae2b43fe",
   "metadata": {},
   "source": [
    "## Q9) What are the diff ratings defined by the Netflix?"
   ]
  },
  {
   "cell_type": "code",
   "execution_count": 30,
   "id": "05eb04ab",
   "metadata": {},
   "outputs": [
    {
     "data": {
      "text/plain": [
       "array(['PG-13', 'TV-MA', 'PG', 'TV-14', 'TV-PG', 'TV-Y', 'TV-Y7', 'R',\n",
       "       'TV-G', 'G', 'NC-17', '74 min', '84 min', '66 min', 'NR',\n",
       "       'unknown', 'TV-Y7-FV', 'UR'], dtype=object)"
      ]
     },
     "execution_count": 30,
     "metadata": {},
     "output_type": "execute_result"
    }
   ],
   "source": [
    "df['rating'].unique()"
   ]
  },
  {
   "cell_type": "code",
   "execution_count": 31,
   "id": "4c4e318a",
   "metadata": {},
   "outputs": [
    {
     "data": {
      "text/plain": [
       "18"
      ]
     },
     "execution_count": 31,
     "metadata": {},
     "output_type": "execute_result"
    }
   ],
   "source": [
    "df['rating'].nunique()"
   ]
  },
  {
   "cell_type": "raw",
   "id": "a670b8e9",
   "metadata": {},
   "source": [
    "#Hence, there are 18 diff ratings and those are 'PG-13', 'TV-MA', 'PG', 'TV-14', 'TV-PG', 'TV-Y', 'TV-Y7', 'R','TV-G', 'G', 'NC-17', '74 min', '84 min', '66 min', 'NR','unknown', 'TV-Y7-FV' & 'UR' defined by the Netflix."
   ]
  },
  {
   "cell_type": "markdown",
   "id": "8b52a50c",
   "metadata": {},
   "source": [
    "## Q9.1) How many Movies got the TV-14 rating in Canada?"
   ]
  },
  {
   "cell_type": "code",
   "execution_count": 32,
   "id": "b2aff97c",
   "metadata": {},
   "outputs": [
    {
     "data": {
      "text/plain": [
       "(13, 14)"
      ]
     },
     "execution_count": 32,
     "metadata": {},
     "output_type": "execute_result"
    }
   ],
   "source": [
    "df[(df['type']=='Movie') & (df['rating']=='TV-14') & (df['country']=='Canada')].shape"
   ]
  },
  {
   "cell_type": "raw",
   "id": "11dcf567",
   "metadata": {},
   "source": [
    "#So, there are total 13 Movies which got the TV-14 rating in Canada"
   ]
  },
  {
   "cell_type": "markdown",
   "id": "9bbcb289",
   "metadata": {},
   "source": [
    "## Q9.2) How many TV shows got the R rating since 2018?"
   ]
  },
  {
   "cell_type": "code",
   "execution_count": 33,
   "id": "54ffb05c",
   "metadata": {},
   "outputs": [
    {
     "data": {
      "text/plain": [
       "(1, 14)"
      ]
     },
     "execution_count": 33,
     "metadata": {},
     "output_type": "execute_result"
    }
   ],
   "source": [
    "df[(df['type']=='TV Show') & (df['rating']=='R') & (df['year']>=2018)].shape"
   ]
  },
  {
   "cell_type": "raw",
   "id": "bf2056c0",
   "metadata": {},
   "source": [
    "#There is only 1 TV show which got the R rating since 2018"
   ]
  },
  {
   "cell_type": "markdown",
   "id": "7b453a1d",
   "metadata": {},
   "source": [
    "## Q10) What's the max duration of a Movie/TV Show on Netflix?"
   ]
  },
  {
   "cell_type": "code",
   "execution_count": 34,
   "id": "3fd685d0",
   "metadata": {
    "scrolled": true
   },
   "outputs": [
    {
     "data": {
      "text/plain": [
       "312.0"
      ]
     },
     "execution_count": 34,
     "metadata": {},
     "output_type": "execute_result"
    }
   ],
   "source": [
    "max(df['duration'])"
   ]
  },
  {
   "cell_type": "raw",
   "id": "a1cf0bf8",
   "metadata": {},
   "source": [
    "#So, the max duration is of a Movie/TV Show on Netflix is 312 minutes"
   ]
  },
  {
   "cell_type": "markdown",
   "id": "9956ddf2",
   "metadata": {},
   "source": [
    "## Q11) Which country has the highest num of TV Shows?"
   ]
  },
  {
   "cell_type": "code",
   "execution_count": 35,
   "id": "4af7fb89",
   "metadata": {},
   "outputs": [
    {
     "data": {
      "text/plain": [
       "United States    1151\n",
       "Name: country, dtype: int64"
      ]
     },
     "execution_count": 35,
     "metadata": {},
     "output_type": "execute_result"
    }
   ],
   "source": [
    "df['country'][df['type']=='TV Show'].value_counts()[:1]"
   ]
  },
  {
   "cell_type": "raw",
   "id": "e6c0a7e1",
   "metadata": {},
   "source": [
    "#Hence, United States has the highest num of TV Shows on Netflix with a total of 1151"
   ]
  },
  {
   "cell_type": "markdown",
   "id": "aca835e0",
   "metadata": {},
   "source": [
    "## Q12) How can we sort the Dataset by year?"
   ]
  },
  {
   "cell_type": "code",
   "execution_count": 36,
   "id": "567f673b",
   "metadata": {},
   "outputs": [
    {
     "data": {
      "text/html": [
       "<div>\n",
       "<style scoped>\n",
       "    .dataframe tbody tr th:only-of-type {\n",
       "        vertical-align: middle;\n",
       "    }\n",
       "\n",
       "    .dataframe tbody tr th {\n",
       "        vertical-align: top;\n",
       "    }\n",
       "\n",
       "    .dataframe thead th {\n",
       "        text-align: right;\n",
       "    }\n",
       "</style>\n",
       "<table border=\"1\" class=\"dataframe\">\n",
       "  <thead>\n",
       "    <tr style=\"text-align: right;\">\n",
       "      <th></th>\n",
       "      <th>show_id</th>\n",
       "      <th>type</th>\n",
       "      <th>title</th>\n",
       "      <th>director</th>\n",
       "      <th>cast</th>\n",
       "      <th>country</th>\n",
       "      <th>release_year</th>\n",
       "      <th>rating</th>\n",
       "      <th>duration</th>\n",
       "      <th>listed_in</th>\n",
       "      <th>description</th>\n",
       "      <th>year</th>\n",
       "      <th>month</th>\n",
       "      <th>day</th>\n",
       "    </tr>\n",
       "  </thead>\n",
       "  <tbody>\n",
       "    <tr>\n",
       "      <th>0</th>\n",
       "      <td>s1</td>\n",
       "      <td>Movie</td>\n",
       "      <td>Dick Johnson Is Dead</td>\n",
       "      <td>Kirsten Johnson</td>\n",
       "      <td>unknown</td>\n",
       "      <td>United States</td>\n",
       "      <td>2020</td>\n",
       "      <td>PG-13</td>\n",
       "      <td>90.0</td>\n",
       "      <td>Documentaries</td>\n",
       "      <td>As her father nears the end of his life, filmm...</td>\n",
       "      <td>2021.0</td>\n",
       "      <td>9.0</td>\n",
       "      <td>25.0</td>\n",
       "    </tr>\n",
       "    <tr>\n",
       "      <th>996</th>\n",
       "      <td>s997</td>\n",
       "      <td>Movie</td>\n",
       "      <td>HOMUNCULUS</td>\n",
       "      <td>Takashi Shimizu</td>\n",
       "      <td>Go Ayano, Ryo Narita, Yukino Kishii, Anna Ishi...</td>\n",
       "      <td>Japan</td>\n",
       "      <td>2021</td>\n",
       "      <td>TV-MA</td>\n",
       "      <td>116.0</td>\n",
       "      <td>Horror Movies, International Movies, Thrillers</td>\n",
       "      <td>Truth and illusion blurs when a homeless amnes...</td>\n",
       "      <td>2021.0</td>\n",
       "      <td>4.0</td>\n",
       "      <td>22.0</td>\n",
       "    </tr>\n",
       "  </tbody>\n",
       "</table>\n",
       "</div>"
      ],
      "text/plain": [
       "    show_id   type                 title         director  \\\n",
       "0        s1  Movie  Dick Johnson Is Dead  Kirsten Johnson   \n",
       "996    s997  Movie            HOMUNCULUS  Takashi Shimizu   \n",
       "\n",
       "                                                  cast        country  \\\n",
       "0                                              unknown  United States   \n",
       "996  Go Ayano, Ryo Narita, Yukino Kishii, Anna Ishi...          Japan   \n",
       "\n",
       "     release_year rating  duration  \\\n",
       "0            2020  PG-13      90.0   \n",
       "996          2021  TV-MA     116.0   \n",
       "\n",
       "                                          listed_in  \\\n",
       "0                                     Documentaries   \n",
       "996  Horror Movies, International Movies, Thrillers   \n",
       "\n",
       "                                           description    year  month   day  \n",
       "0    As her father nears the end of his life, filmm...  2021.0    9.0  25.0  \n",
       "996  Truth and illusion blurs when a homeless amnes...  2021.0    4.0  22.0  "
      ]
     },
     "execution_count": 36,
     "metadata": {},
     "output_type": "execute_result"
    }
   ],
   "source": [
    "df.sort_values(by='year', ascending=False).head(2)"
   ]
  },
  {
   "cell_type": "raw",
   "id": "9fe3d301",
   "metadata": {},
   "source": [
    "This is our sorted data as per the year"
   ]
  },
  {
   "cell_type": "markdown",
   "id": "205b660f",
   "metadata": {},
   "source": [
    "## Q13) Find all the instances where->"
   ]
  },
  {
   "cell_type": "code",
   "execution_count": 37,
   "id": "be86a0a3",
   "metadata": {},
   "outputs": [
    {
     "data": {
      "text/plain": [
       "(358, 14)"
      ]
     },
     "execution_count": 37,
     "metadata": {},
     "output_type": "execute_result"
    }
   ],
   "source": [
    "#A) Type is 'Movie' & listed_in is 'Dramas'\n",
    "                 #OR\n",
    "#B) Type is 'TV Show' & listed_in is 'Kids' TV'\n",
    "\n",
    "df[((df['type']=='Movie') & (df['listed_in']=='Dramas')) | ((df['type']=='TV Show') & (df['listed_in']==\"Kids' TV\"))].shape"
   ]
  },
  {
   "cell_type": "raw",
   "id": "bc458928",
   "metadata": {},
   "source": [
    "#Therefore there are 358 instances where either of the given condition satisfies"
   ]
  },
  {
   "cell_type": "code",
   "execution_count": null,
   "id": "662a4512",
   "metadata": {},
   "outputs": [],
   "source": []
  }
 ],
 "metadata": {
  "kernelspec": {
   "display_name": "Python 3 (ipykernel)",
   "language": "python",
   "name": "python3"
  },
  "language_info": {
   "codemirror_mode": {
    "name": "ipython",
    "version": 3
   },
   "file_extension": ".py",
   "mimetype": "text/x-python",
   "name": "python",
   "nbconvert_exporter": "python",
   "pygments_lexer": "ipython3",
   "version": "3.11.4"
  }
 },
 "nbformat": 4,
 "nbformat_minor": 5
}
